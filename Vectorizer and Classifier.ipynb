{
 "cells": [
  {
   "cell_type": "code",
   "execution_count": 1,
   "metadata": {},
   "outputs": [],
   "source": [
    "import pandas as pd\n",
    "import numpy as np\n",
    "import matplotlib.pyplot as plt\n",
    "%matplotlib inline\n",
    "import seaborn as sns\n",
    "import re\n",
    "\n",
    "import pickle \n",
    "import mglearn\n",
    "import time\n",
    "\n",
    "\n",
    "from nltk.tokenize import TweetTokenizer # doesn't split at apostrophes\n",
    "import nltk\n",
    "from nltk import Text\n",
    "from nltk.tokenize import regexp_tokenize\n",
    "from nltk.tokenize import word_tokenize  \n",
    "from nltk.tokenize import sent_tokenize \n",
    "from nltk.corpus import stopwords\n",
    "from nltk.stem import WordNetLemmatizer\n",
    "from nltk.stem import PorterStemmer\n",
    "\n",
    "\n",
    "from sklearn.feature_extraction.text import CountVectorizer\n",
    "from sklearn.feature_extraction.text import TfidfVectorizer\n",
    "from sklearn.linear_model import LogisticRegression \n",
    "from sklearn.naive_bayes import MultinomialNB\n",
    "from sklearn.multiclass import OneVsRestClassifier\n",
    "\n",
    "\n",
    "from sklearn.model_selection import cross_val_score\n",
    "from sklearn.model_selection import train_test_split\n",
    "from sklearn import metrics\n",
    "from sklearn.metrics import classification_report\n",
    "from sklearn.metrics import confusion_matrix\n",
    "from sklearn.model_selection import GridSearchCV\n",
    "from sklearn.pipeline import make_pipeline\n"
   ]
  },
  {
   "cell_type": "markdown",
   "metadata": {},
   "source": [
    "# CountVectorizer -- Brief Tutorial"
   ]
  },
  {
   "cell_type": "markdown",
   "metadata": {},
   "source": [
    "     **CountVectorizer will/can lowercase words, disregard punctuation, stopwords, but it can't LEMMATIZE or STEM**"
   ]
  },
  {
   "cell_type": "code",
   "execution_count": 2,
   "metadata": {},
   "outputs": [],
   "source": [
    "txt = [\"He is ::having a great Time, at the park time?\",\n",
    "       \"She, unlike most women, is a big player on the park's grass.\",\n",
    "       \"she can't be going\"]"
   ]
  },
  {
   "cell_type": "markdown",
   "metadata": {},
   "source": [
    "**Features in Bag of Words**"
   ]
  },
  {
   "cell_type": "code",
   "execution_count": 4,
   "metadata": {
    "hideCode": true,
    "hidePrompt": true
   },
   "outputs": [
    {
     "name": "stdout",
     "output_type": "stream",
     "text": [
      "Every feature:\n",
      "['big', 'going', 'grass', 'great', 'having', 'park', 'player', 'time', 'unlike', 'women']\n",
      "\n",
      "Every 3rd feature:\n",
      "['big', 'great', 'player', 'women']\n"
     ]
    }
   ],
   "source": [
    "# Initialize a CountVectorizer object: count_vectorizer\n",
    "count_vec = CountVectorizer(stop_words=\"english\", analyzer='word', \n",
    "                            ngram_range=(1, 1), max_df=1.0, min_df=1, max_features=None)\n",
    "\n",
    "# Transforms the data into a bag of words\n",
    "count_train = count_vec.fit(txt)\n",
    "bag_of_words = count_vec.transform(txt)\n",
    "\n",
    "# Print the first 10 features of the count_vec\n",
    "print(\"Every feature:\\n{}\".format(count_vec.get_feature_names()))\n",
    "print(\"\\nEvery 3rd feature:\\n{}\".format(count_vec.get_feature_names()[::3]))"
   ]
  },
  {
   "cell_type": "code",
   "execution_count": 5,
   "metadata": {
    "scrolled": true
   },
   "outputs": [
    {
     "name": "stdout",
     "output_type": "stream",
     "text": [
      "Vocabulary size: 10\n",
      "Vocabulary content:\n",
      " {'having': 4, 'great': 3, 'time': 7, 'park': 5, 'unlike': 8, 'women': 9, 'big': 0, 'player': 6, 'grass': 2, 'going': 1}\n"
     ]
    }
   ],
   "source": [
    "print(\"Vocabulary size: {}\".format(len(count_train.vocabulary_)))\n",
    "print(\"Vocabulary content:\\n {}\".format(count_train.vocabulary_))"
   ]
  },
  {
   "cell_type": "markdown",
   "metadata": {},
   "source": [
    "# N-grams\n",
    "* N=2"
   ]
  },
  {
   "cell_type": "code",
   "execution_count": 6,
   "metadata": {},
   "outputs": [
    {
     "name": "stdout",
     "output_type": "stream",
     "text": [
      "['big', 'big player', 'going', 'grass', 'great', 'great time', 'having', 'having great', 'park', 'park grass', 'park time', 'player', 'player park', 'time', 'time park', 'unlike', 'unlike women', 'women', 'women big']\n"
     ]
    }
   ],
   "source": [
    "count_vec = CountVectorizer(stop_words=\"english\", analyzer='word', \n",
    "                            ngram_range=(1, 2), max_df=1.0, min_df=1, max_features=None)\n",
    "\n",
    "count_train = count_vec.fit(txt)\n",
    "bag_of_words = count_vec.transform(txt)\n",
    "\n",
    "print(count_vec.get_feature_names())"
   ]
  },
  {
   "cell_type": "markdown",
   "metadata": {},
   "source": [
    "* N=3"
   ]
  },
  {
   "cell_type": "code",
   "execution_count": 7,
   "metadata": {},
   "outputs": [
    {
     "name": "stdout",
     "output_type": "stream",
     "text": [
      "['big', 'big player', 'big player park', 'going', 'grass', 'great', 'great time', 'great time park', 'having', 'having great', 'having great time', 'park', 'park grass', 'park time', 'player', 'player park', 'player park grass', 'time', 'time park', 'time park time', 'unlike', 'unlike women', 'unlike women big', 'women', 'women big', 'women big player']\n"
     ]
    }
   ],
   "source": [
    "count_vec = CountVectorizer(stop_words=\"english\", analyzer='word', \n",
    "                            ngram_range=(1, 3), max_df=1.0, min_df=1, max_features=None)\n",
    "\n",
    "count_train = count_vec.fit(txt)\n",
    "bag_of_words = count_vec.transform(txt)\n",
    "\n",
    "print(count_vec.get_feature_names())"
   ]
  },
  {
   "cell_type": "markdown",
   "metadata": {},
   "source": [
    "# Min_df"
   ]
  },
  {
   "cell_type": "markdown",
   "metadata": {},
   "source": [
    "**Min_df nignores terms that have a document frequency (presence in % of documents) strictly lower than the given threshold. For example, Min_df=0.66 requires that a term appear in 66% of the docuemnts for it to be considered part of the vocabulary."
   ]
  },
  {
   "cell_type": "markdown",
   "metadata": {},
   "source": [
    "**This could be used to limit the vocabulary size, so it learns only those terms that appear in at least 10%, 20%, etc. of the documents.**"
   ]
  },
  {
   "cell_type": "code",
   "execution_count": 8,
   "metadata": {},
   "outputs": [
    {
     "name": "stdout",
     "output_type": "stream",
     "text": [
      "['park']\n",
      "\n",
      "Only 'park' becomes the vocabulary of the dtm because it appears in 2 out of 3 documents, meaning 0.66% of the time.      \n",
      "The rest of the words such as 'big' appear only in 1 out of 3 documents, meaning 0.33%.\n"
     ]
    }
   ],
   "source": [
    "count_vec = CountVectorizer(stop_words=\"english\", analyzer='word', \n",
    "                            ngram_range=(1, 1), max_df=1.0, min_df=0.6, max_features=None)\n",
    "\n",
    "count_train = count_vec.fit(txt)\n",
    "bag_of_words = count_vec.transform(txt)\n",
    "\n",
    "print(count_vec.get_feature_names())\n",
    "print(\"\\nOnly 'park' becomes the vocabulary of the dtm because it appears in 2 out of 3 documents, meaning 0.66% of the time.\\\n",
    "      \\nThe rest of the words such as 'big' appear only in 1 out of 3 documents, meaning 0.33%.\")"
   ]
  },
  {
   "cell_type": "markdown",
   "metadata": {},
   "source": [
    "# Max_df"
   ]
  },
  {
   "cell_type": "markdown",
   "metadata": {},
   "source": [
    "**When building the vocabulary it ignores terms that have a document frequency strictly higher than the given threshold. This could be used to exclude terms that are too frequent and are unlikely to help predict the label. For example, by analyzing reviews on the movie Lion King, the term Lion King might appear in 90% of the reviews (documents), in which case, we could consider establishing Max_df=0.89**"
   ]
  },
  {
   "cell_type": "code",
   "execution_count": 9,
   "metadata": {},
   "outputs": [
    {
     "name": "stdout",
     "output_type": "stream",
     "text": [
      "['big', 'going', 'grass', 'great', 'having', 'player', 'time', 'unlike', 'women']\n",
      "\n",
      "Only 'park' is ignored because it appears in 2 out of 3 documents, meaning 0.66% of the time.\n"
     ]
    }
   ],
   "source": [
    "count_vec = CountVectorizer(stop_words=\"english\", analyzer='word', \n",
    "                            ngram_range=(1, 1), max_df=0.50, min_df=1, max_features=None)\n",
    "\n",
    "count_train = count_vec.fit(txt)\n",
    "bag_of_words = count_vec.transform(txt)\n",
    "\n",
    "print(count_vec.get_feature_names())\n",
    "print(\"\\nOnly 'park' is ignored because it appears in 2 out of 3 documents, meaning 0.66% of the time.\")"
   ]
  },
  {
   "cell_type": "markdown",
   "metadata": {},
   "source": [
    "# Max_features"
   ]
  },
  {
   "cell_type": "markdown",
   "metadata": {},
   "source": [
    "**Limit the amount of features (vocabulary) that the vectorizer will learn**"
   ]
  },
  {
   "cell_type": "code",
   "execution_count": 10,
   "metadata": {},
   "outputs": [
    {
     "name": "stdout",
     "output_type": "stream",
     "text": [
      "['big', 'going', 'park', 'time']\n",
      "\n",
      "Only 'park' becomes the vocabulary of the dtm because it appears in 2 out of 3 documents, meaning 0.66% of the time.      \n",
      "The rest of the words such as 'big' appear only in 1 out of 3 documents, meaning 0.33%.\n"
     ]
    }
   ],
   "source": [
    "count_vec = CountVectorizer(stop_words=\"english\", analyzer='word', \n",
    "                            ngram_range=(1, 1), max_df=1.0, min_df=1, max_features=4)\n",
    "\n",
    "count_train = count_vec.fit(txt)\n",
    "bag_of_words = count_vec.transform(txt)\n",
    "\n",
    "print(count_vec.get_feature_names())\n",
    "print(\"\\nOnly 'park' becomes the vocabulary of the dtm because it appears in 2 out of 3 documents, meaning 0.66% of the time.\\\n",
    "      \\nThe rest of the words such as 'big' appear only in 1 out of 3 documents, meaning 0.33%.\")"
   ]
  },
  {
   "cell_type": "markdown",
   "metadata": {},
   "source": [
    "# TfidfVectorizer -- Brief Tutorial"
   ]
  },
  {
   "cell_type": "markdown",
   "metadata": {},
   "source": [
    "The goal of using tf-idf is to scale down the impact of tokens that occur very frequently in a given corpus and that are hence empirically less informative than features that occur in a small fraction of the training corpus. (https://github.com/scikit-learn/scikit-learn/blob/a24c8b46/sklearn/feature_extraction/text.py#L1365)"
   ]
  },
  {
   "cell_type": "markdown",
   "metadata": {},
   "source": [
    "formula used: \n",
    "tf-idf(d, t) = tf(t) * idf(d, t)\n",
    "                * tf(t)= the term frequency is the number of times the term appears in the document\n",
    "                * idf(d, t) = the document frequency is the number of documents 'd' that contain term 't'"
   ]
  },
  {
   "cell_type": "code",
   "execution_count": 11,
   "metadata": {},
   "outputs": [],
   "source": [
    "txt1 = ['His smile was not perfect', 'His smile was not not not not perfect', 'she not sang']\n",
    "tf = TfidfVectorizer(smooth_idf=False, sublinear_tf=False, norm=None, analyzer='word')\n",
    "txt_fitted = tf.fit(txt1)\n",
    "txt_transformed = txt_fitted.transform(txt1)"
   ]
  },
  {
   "cell_type": "markdown",
   "metadata": {},
   "source": [
    "The learned corpus vocabulary"
   ]
  },
  {
   "cell_type": "code",
   "execution_count": 12,
   "metadata": {},
   "outputs": [
    {
     "data": {
      "text/plain": [
       "{'his': 0, 'not': 1, 'perfect': 2, 'sang': 3, 'she': 4, 'smile': 5, 'was': 6}"
      ]
     },
     "execution_count": 12,
     "metadata": {},
     "output_type": "execute_result"
    }
   ],
   "source": [
    "tf.vocabulary_"
   ]
  },
  {
   "cell_type": "markdown",
   "metadata": {},
   "source": [
    "**IDF** The inverse document frequency"
   ]
  },
  {
   "cell_type": "code",
   "execution_count": 15,
   "metadata": {
    "scrolled": true
   },
   "outputs": [
    {
     "name": "stdout",
     "output_type": "stream",
     "text": [
      "{'his': 1.4054651081081644, 'not': 1.0, 'perfect': 1.4054651081081644, 'sang': 2.09861228866811, 'she': 2.09861228866811, 'smile': 1.4054651081081644, 'was': 1.4054651081081644}\n",
      "\n",
      "We see that the tokens 'sang','she' have the most idf weight because they are the only tokens that appear in one document only.\n",
      "\n",
      "The token 'not' appears 6 times but it is also in all documents, so its idf is the lowest\n"
     ]
    }
   ],
   "source": [
    "idf = tf.idf_\n",
    "print(dict(zip(txt_fitted.get_feature_names(), idf)))\n",
    "print(\"\\nWe see that the tokens 'sang','she' have the most idf weight because \\\n",
    "they are the only tokens that appear in one document only.\")\n",
    "print(\"\\nThe token 'not' appears 6 times but it is also in all documents, so its idf is the lowest\")"
   ]
  },
  {
   "cell_type": "markdown",
   "metadata": {},
   "source": [
    "Graphing inverse document frequency"
   ]
  },
  {
   "cell_type": "code",
   "execution_count": 16,
   "metadata": {},
   "outputs": [],
   "source": [
    "rr = dict(zip(txt_fitted.get_feature_names(), idf))"
   ]
  },
  {
   "cell_type": "code",
   "execution_count": 17,
   "metadata": {},
   "outputs": [
    {
     "data": {
      "image/png": "[encoded data removed]",
      "text/plain": [
       "<matplotlib.figure.Figure at 0x241c6f30898>"
      ]
     },
     "metadata": {},
     "output_type": "display_data"
    }
   ],
   "source": [
    "token_weight = pd.DataFrame.from_dict(rr, orient='index').reset_index()\n",
    "token_weight.columns=('token','weight')\n",
    "token_weight = token_weight.sort_values(by='weight', ascending=False)\n",
    "token_weight \n",
    "\n",
    "sns.barplot(x='token', y='weight', data=token_weight)            \n",
    "plt.title(\"Inverse Document Frequency(idf) per token\")\n",
    "fig=plt.gcf()\n",
    "fig.set_size_inches(10,5)\n",
    "plt.show()"
   ]
  },
  {
   "cell_type": "markdown",
   "metadata": {},
   "source": [
    "Listing (instead of graphing) inverse document frequency"
   ]
  },
  {
   "cell_type": "code",
   "execution_count": 19,
   "metadata": {},
   "outputs": [
    {
     "name": "stdout",
     "output_type": "stream",
     "text": [
      "Features with lowest idf:\n",
      "['not' 'his' 'perfect']\n",
      "\n",
      "Features with highest idf:\n",
      "['was' 'sang' 'she']\n"
     ]
    }
   ],
   "source": [
    "# get feature names\n",
    "feature_names = np.array(tf.get_feature_names())\n",
    "sorted_by_idf = np.argsort(tf.idf_)\n",
    "print(\"Features with lowest idf:\\n{}\".format(\n",
    "       feature_names[sorted_by_idf[:3]]))\n",
    "print(\"\\nFeatures with highest idf:\\n{}\".format(\n",
    "       feature_names[sorted_by_idf[-3:]]))"
   ]
  },
  {
   "cell_type": "markdown",
   "metadata": {},
   "source": [
    "Weight of tokens per document"
   ]
  },
  {
   "cell_type": "code",
   "execution_count": 20,
   "metadata": {},
   "outputs": [
    {
     "name": "stdout",
     "output_type": "stream",
     "text": [
      "The token 'not' has  the largest weight in document #2 because it appears 3 times there. But in document #1 its weight is 0 because it does not appear there.\n"
     ]
    },
    {
     "data": {
      "text/plain": [
       "array([[ 1.40546511,  1.        ,  1.40546511,  0.        ,  0.        ,\n",
       "         1.40546511,  1.40546511],\n",
       "       [ 1.40546511,  4.        ,  1.40546511,  0.        ,  0.        ,\n",
       "         1.40546511,  1.40546511],\n",
       "       [ 0.        ,  1.        ,  0.        ,  2.09861229,  2.09861229,\n",
       "         0.        ,  0.        ]])"
      ]
     },
     "execution_count": 20,
     "metadata": {},
     "output_type": "execute_result"
    }
   ],
   "source": [
    "print(\"The token 'not' has  the largest weight in document #2 because it appears 3 times there. But in document #1\\\n",
    " its weight is 0 because it does not appear there.\")\n",
    "txt_transformed.toarray()"
   ]
  },
  {
   "cell_type": "markdown",
   "metadata": {},
   "source": [
    "* Summary: the more times a token appears in a document, the more weight it will have. However, the more documents the token appears in, it is 'penalized' and the weight is diminished. For example, the weight for token 'not' is 4, but if it did not appear in all documents its weight would have been 8.3"
   ]
  },
  {
   "cell_type": "markdown",
   "metadata": {},
   "source": [
    "**TF-IDF** - Maximum token value throughout the whole dataset"
   ]
  },
  {
   "cell_type": "code",
   "execution_count": 23,
   "metadata": {},
   "outputs": [
    {
     "name": "stdout",
     "output_type": "stream",
     "text": [
      "Features with lowest tfidf:\n",
      "['his' 'perfect' 'smile']\n",
      "\n",
      "Features with highest tfidf: \n",
      "['sang' 'she' 'not']\n"
     ]
    }
   ],
   "source": [
    "new1 = tf.transform(txt1)\n",
    "\n",
    "# find maximum value for each of the features over all of dataset:\n",
    "max_val = new1.max(axis=0).toarray().ravel()\n",
    "\n",
    "#sort weights from smallest to biggest and extract their indices \n",
    "sort_by_tfidf = max_val.argsort()\n",
    "\n",
    "print(\"Features with lowest tfidf:\\n{}\".format(\n",
    "      feature_names[sort_by_tfidf[:3]]))\n",
    "\n",
    "print(\"\\nFeatures with highest tfidf: \\n{}\".format(\n",
    "      feature_names[sort_by_tfidf[-3:]]))"
   ]
  },
  {
   "cell_type": "markdown",
   "metadata": {},
   "source": [
    "# Clean, Train, Vectorize, Classify Toxic Comments (without parameter tuning)"
   ]
  },
  {
   "cell_type": "code",
   "execution_count": 22,
   "metadata": {},
   "outputs": [],
   "source": [
    "train = pd.read_csv(\"train.csv\")\n",
    "holdout = pd.read_csv(\"test.csv\").fillna(' ')"
   ]
  },
  {
   "cell_type": "markdown",
   "metadata": {},
   "source": [
    "Cleaning Train text"
   ]
  },
  {
   "cell_type": "code",
   "execution_count": 25,
   "metadata": {},
   "outputs": [
    {
     "name": "stdout",
     "output_type": "stream",
     "text": [
      "total time 6.866132736206055\n"
     ]
    }
   ],
   "source": [
    "start_time=time.time()\n",
    "# twt_tokenizer = TweetTokenizer()\n",
    "# wnl = WordNetLemmatizer()\n",
    "# ps = PorterStemmer()\n",
    "\n",
    "\"\"\"Lemmatizing and stemming gives us a lower ROC-AUC score. So we will only clean \\\\n's, Username, IP & http links\"\"\"\n",
    "# remove '\\\\n'\n",
    "train['comment_text'] = train['comment_text'].map(lambda x: re.sub('\\\\n',' ',str(x)))\n",
    "    \n",
    "# remove any text starting with User... \n",
    "train['comment_text'] = train['comment_text'].map(lambda x: re.sub(\"\\[\\[User.*\",'',str(x)))\n",
    "    \n",
    "# remove IP addresses or user IDs\n",
    "train['comment_text'] = train['comment_text'].map(lambda x: re.sub(\"\\d{1,3}\\.\\d{1,3}\\.\\d{1,3}\\.\\d{1,3}\",'',str(x)))\n",
    "    \n",
    "#remove http links in the text\n",
    "train['comment_text'] = train['comment_text'].map(lambda x: re.sub(\"(http://.*?\\s)|(http://.*)\",'',str(x)))\n",
    "    \n",
    "# # #remove all punctuation except for apostrophe (')\n",
    "# # train['comment_text'] =train['comment_text'].map(lambda x: re.sub('[!\"#$%&\\()*+,-./:;<=>?@[\\\\]^_`{|}~]','',str(x)))\n",
    "    \n",
    "# #tokenize the text\n",
    "# train['comment_text'] = train['comment_text'].map(lambda x: twt_tokenizer.tokenize(x))\n",
    "    \n",
    "# #lemmatize\n",
    "# train['comment_text'] = train['comment_text'].map(lambda x: [wnl.lemmatize(j) for j in x])\n",
    "    \n",
    "# #stem\n",
    "# train['comment_text'] = train['comment_text'].map(lambda x: [ps.stem(j) for j in x])\n",
    "    \n",
    "# #convert list of tokens back into string for tfidfvectorizer to operate on\n",
    "# train['comment_text'] = train['comment_text'].map(lambda x: ' '.join(x))\n",
    "\n",
    "end_time=time.time()\n",
    "print(\"total time\",end_time-start_time)"
   ]
  },
  {
   "cell_type": "markdown",
   "metadata": {},
   "source": [
    "Cleaning HOLDOUT text"
   ]
  },
  {
   "cell_type": "code",
   "execution_count": 26,
   "metadata": {},
   "outputs": [],
   "source": [
    "# remove '\\\\n'\n",
    "holdout['comment_text'] = holdout['comment_text'].map(lambda x: re.sub('\\\\n',' ',str(x)))\n",
    "    \n",
    "# remove any text starting with User... \n",
    "holdout['comment_text'] = holdout['comment_text'].map(lambda x: re.sub(\"\\[\\[User.*\",'',str(x)))\n",
    "    \n",
    "# remove IP addresses or user IDs\n",
    "holdout['comment_text'] = holdout['comment_text'].map(lambda x: re.sub(\"\\d{1,3}\\.\\d{1,3}\\.\\d{1,3}\\.\\d{1,3}\",'',str(x)))\n",
    "    \n",
    "#remove http links in the text\n",
    "holdout['comment_text'] = holdout['comment_text'].map(lambda x: re.sub(\"(http://.*?\\s)|(http://.*)\",'',str(x)))\n",
    "    \n",
    "# #remove all punctuation except for apostrophe (')\n",
    "# holdout['comment_text'] = holdout['comment_text'].map(lambda x: re.sub('[!\"#$%&\\()*+,-./:;<=>?@[\\\\]^_`{|}~]','',str(x)))\n",
    "    \n",
    "# #tokenize the text\n",
    "# holdout['comment_text'] = holdout['comment_text'].map(lambda x: twt_tokenizer.tokenize(x))\n",
    "    \n",
    "# #lemmatize\n",
    "# holdout['comment_text'] = holdout['comment_text'].map(lambda x: [wnl.lemmatize(j) for j in x])\n",
    "    \n",
    "# #stem\n",
    "# holdout['comment_text'] = holdout['comment_text'].map(lambda x: [ps.stem(j) for j in x])\n",
    "    \n",
    "# #convert list of tokens back into string for tfidfvectorizer to operate on\n",
    "# holdout['comment_text'] = holdout['comment_text'].map(lambda x: ' '.join(x))\n"
   ]
  },
  {
   "cell_type": "code",
   "execution_count": 27,
   "metadata": {},
   "outputs": [],
   "source": [
    "x = train['comment_text']\n",
    "y = train.iloc[:, 2:8]  "
   ]
  },
  {
   "cell_type": "code",
   "execution_count": 28,
   "metadata": {},
   "outputs": [],
   "source": [
    "X_train, X_test, y_train, y_test = train_test_split(x, y, test_size= 0.2, random_state=13)"
   ]
  },
  {
   "cell_type": "code",
   "execution_count": 29,
   "metadata": {},
   "outputs": [
    {
     "name": "stdout",
     "output_type": "stream",
     "text": [
      "(127656,)\n",
      "(127656, 6)\n",
      "(31915,)\n",
      "(31915, 6)\n"
     ]
    }
   ],
   "source": [
    "print(X_train.shape)\n",
    "print(y_train.shape)\n",
    "print(X_test.shape)\n",
    "print(y_test.shape)"
   ]
  },
  {
   "cell_type": "markdown",
   "metadata": {},
   "source": [
    "**Vectorize features**"
   ]
  },
  {
   "cell_type": "code",
   "execution_count": 30,
   "metadata": {
    "scrolled": true
   },
   "outputs": [],
   "source": [
    "# Instantiate the vectorizer\n",
    "word_vectorizer = TfidfVectorizer(\n",
    "    stop_words='english',\n",
    "    sublinear_tf=True,\n",
    "    strip_accents='unicode',\n",
    "    analyzer='word',\n",
    "    token_pattern=r'\\w{2,}',\n",
    "    ngram_range=(1, 1),\n",
    "    max_features=30000)\n",
    "\n",
    "# fit and transform on it the training features\n",
    "word_vectorizer.fit(X_train)\n",
    "X_train_word_features = word_vectorizer.transform(X_train)\n",
    "\n",
    "#transform the test features to sparse matrix\n",
    "test_features = word_vectorizer.transform(X_test)\n",
    "\n",
    "# transform the holdout text for submission at the end\n",
    "holdout_text = holdout['comment_text']\n",
    "holdout_word_features = word_vectorizer.transform(holdout_text)"
   ]
  },
  {
   "cell_type": "markdown",
   "metadata": {},
   "source": [
    "**Run a Logistic regression on each label separately**"
   ]
  },
  {
   "cell_type": "code",
   "execution_count": 31,
   "metadata": {
    "collapsed": true
   },
   "outputs": [
    {
     "name": "stdout",
     "output_type": "stream",
     "text": [
      "CV Log_loss score for class toxic is -0.1156502901942978\n",
      "CV Accuracy score for class toxic is 0.9589835178269303\n",
      "CV ROC_AUC score 0.9655633284338655\n",
      "\n",
      "[[28571   356]\n",
      " [  965  2023]]\n",
      "             precision    recall  f1-score   support\n",
      "\n",
      "          0       0.97      0.99      0.98     28927\n",
      "          1       0.85      0.68      0.75      2988\n",
      "\n",
      "avg / total       0.96      0.96      0.96     31915\n",
      "\n",
      "CV Log_loss score for class severe_toxic is -0.028702215018658557\n",
      "CV Accuracy score for class severe_toxic is 0.9901923827175312\n",
      "CV ROC_AUC score 0.9819668367570655\n",
      "\n",
      "[[31533    79]\n",
      " [  213    90]]\n",
      "             precision    recall  f1-score   support\n",
      "\n",
      "          0       0.99      1.00      1.00     31612\n",
      "          1       0.53      0.30      0.38       303\n",
      "\n",
      "avg / total       0.99      0.99      0.99     31915\n",
      "\n",
      "CV Log_loss score for class obscene is -0.06353775888675198\n",
      "CV Accuracy score for class obscene is 0.9784577368944316\n",
      "CV ROC_AUC score 0.9825808398274016\n",
      "\n",
      "[[30131   160]\n",
      " [  470  1154]]\n",
      "             precision    recall  f1-score   support\n",
      "\n",
      "          0       0.98      0.99      0.99     30291\n",
      "          1       0.88      0.71      0.79      1624\n",
      "\n",
      "avg / total       0.98      0.98      0.98     31915\n",
      "\n",
      "CV Log_loss score for class threat is -0.009942414159825122\n",
      "CV Accuracy score for class threat is 0.9972739219476136\n",
      "CV ROC_AUC score 0.9779664833726106\n",
      "\n",
      "[[31811    14]\n",
      " [   66    24]]\n",
      "             precision    recall  f1-score   support\n",
      "\n",
      "          0       1.00      1.00      1.00     31825\n",
      "          1       0.63      0.27      0.38        90\n",
      "\n",
      "avg / total       1.00      1.00      1.00     31915\n",
      "\n",
      "CV Log_loss score for class insult is -0.08326876855363954\n",
      "CV Accuracy score for class insult is 0.9704596755459962\n",
      "CV ROC_AUC score 0.9710193690395525\n",
      "\n",
      "[[30153   259]\n",
      " [  653   850]]\n",
      "             precision    recall  f1-score   support\n",
      "\n",
      "          0       0.98      0.99      0.99     30412\n",
      "          1       0.77      0.57      0.65      1503\n",
      "\n",
      "avg / total       0.97      0.97      0.97     31915\n",
      "\n",
      "CV Log_loss score for class identity_hate is -0.025804558286273517\n",
      "CV Accuracy score for class identity_hate is 0.9920646143217648\n",
      "CV ROC_AUC score 0.9725887139785064\n",
      "\n",
      "[[31590    48]\n",
      " [  204    73]]\n",
      "             precision    recall  f1-score   support\n",
      "\n",
      "          0       0.99      1.00      1.00     31638\n",
      "          1       0.60      0.26      0.37       277\n",
      "\n",
      "avg / total       0.99      0.99      0.99     31915\n",
      "\n",
      "Total average CV Log_loss score is -0.054484334183241084\n",
      "Total average CV ROC_AUC score is 0.9752809285681671\n"
     ]
    }
   ],
   "source": [
    "class_names = ['toxic','severe_toxic','obscene', 'threat', 'insult', 'identity_hate']\n",
    "\n",
    "losses = []\n",
    "auc = []\n",
    "# from scipy.sparse import hstack           This is for submission at the end\n",
    "# from scipy.special import logit, expit    This is for submission at the end\n",
    "# predictions = {'id': holdout['id']}       This is for submission at the end\n",
    "for class_name in class_names:\n",
    "    #call the labels one column at a time so we can run the classifier on them\n",
    "    train_target = y_train[class_name]\n",
    "    test_target = y_test[class_name]\n",
    "    classifier = LogisticRegression(solver='sag', C=10)\n",
    "\n",
    "    cv_loss = np.mean(cross_val_score(classifier, X_train_word_features, train_target, cv=5, scoring='neg_log_loss'))\n",
    "    losses.append(cv_loss)\n",
    "    print('CV Log_loss score for class {} is {}'.format(class_name, cv_loss))\n",
    "\n",
    "    cv_score = np.mean(cross_val_score(classifier, X_train_word_features, train_target, cv=5, scoring='accuracy'))\n",
    "    print('CV Accuracy score for class {} is {}'.format(class_name, cv_score))\n",
    "    \n",
    "    classifier.fit(X_train_word_features, train_target)\n",
    "    y_pred = classifier.predict(test_features)\n",
    "    y_pred_prob = classifier.predict_proba(test_features)[:, 1]\n",
    "    auc_score = metrics.roc_auc_score(test_target, y_pred_prob)\n",
    "    auc.append(auc_score)\n",
    "    print(\"CV ROC_AUC score {}\\n\".format(auc_score))\n",
    "    \n",
    "    #predict probability of holdout features and add as value into predictions dictionary with classname as its key\n",
    "#     predictions[class_name] = expit(logit(classifier.predict_proba(holdout_word_features)[:, 1]) - 0.5) 4 submission\n",
    "    \n",
    "#     print(X_test[(test_target==0)&(y_pred==1)])  # print text of all the false positives\n",
    "#     print(X_test[(test_target==1)&(y_pred==0)])  # false negatives\n",
    "   \n",
    "    print(confusion_matrix(test_target, y_pred))\n",
    "    print(classification_report(test_target, y_pred))\n",
    "\n",
    "print('Total average CV Log_loss score is {}'.format(np.mean(losses)))\n",
    "print('Total average CV ROC_AUC score is {}'.format(np.mean(auc)))\n",
    "\n",
    "# submission = pd.DataFrame.from_dict(predictions)\n",
    "# submission.to_csv('submission.csv', index=False)"
   ]
  },
  {
   "cell_type": "markdown",
   "metadata": {},
   "source": [
    "# Vectorize, Classify (with parameter tuning using OneVsRest)"
   ]
  },
  {
   "cell_type": "code",
   "execution_count": 88,
   "metadata": {},
   "outputs": [],
   "source": [
    "x = train['comment_text']\n",
    "y = train.iloc[:, 2:8]  \n",
    "X_train, X_test, y_train, y_test = train_test_split(x, y, test_size= 0.2, random_state=13)"
   ]
  },
  {
   "cell_type": "code",
   "execution_count": 89,
   "metadata": {},
   "outputs": [],
   "source": [
    "pipe = make_pipeline(TfidfVectorizer(\n",
    "                                    stop_words='english',\n",
    "                                    strip_accents='unicode',\n",
    "                                    token_pattern=r'\\w{1,}',\n",
    "                                    analyzer='word',\n",
    "                                    ngram_range=(1, 1),\n",
    "                                    min_df=5),\n",
    "                     OneVsRestClassifier(LogisticRegression()))\n",
    "param_grid = {'tfidfvectorizer__max_features': [10000, 30000],\n",
    "              'onevsrestclassifier__estimator__solver': ['liblinear'],\n",
    "             } \n",
    "grid = GridSearchCV(pipe, param_grid, cv=3, scoring='roc_auc')\n",
    "\n",
    "grid3 = grid.fit(X_train, y_train)"
   ]
  },
  {
   "cell_type": "markdown",
   "metadata": {},
   "source": [
    "# Pickle the classifier"
   ]
  },
  {
   "cell_type": "code",
   "execution_count": 90,
   "metadata": {},
   "outputs": [],
   "source": [
    "# # Save files, documents, trained algorithms, etc. (In this case, we are saving our PC's processor the time \n",
    "# # it would take it to fit and transform all the text) \n",
    "\n",
    "# save_classifier = open(\"Tfidf_LogR_3.pickle\", 'wb') #wb= write in bytes. 'Tfidf_LogR.pickle' is the name of the file saved\n",
    "# pickle.dump(grid3, save_classifier) #use pickle to dump the grid1 we trained as 'Tfidf_LogR.pickle' in wb format\n",
    "# save_classifier.close() "
   ]
  },
  {
   "cell_type": "code",
   "execution_count": 29,
   "metadata": {},
   "outputs": [],
   "source": [
    "# Retrieve the saved file and uplaod it to an object\n",
    "vec = open(\"Tfidf_LogR_3.pickle\", 'rb') # rb= read in bytes\n",
    "grid3 = pickle.load(vec)\n",
    "vec.close()"
   ]
  },
  {
   "cell_type": "markdown",
   "metadata": {},
   "source": [
    "# Analysis"
   ]
  },
  {
   "cell_type": "code",
   "execution_count": 119,
   "metadata": {},
   "outputs": [
    {
     "name": "stdout",
     "output_type": "stream",
     "text": [
      "OneVsRestClassifier(estimator=LogisticRegression(C=1, class_weight=None, dual=False, fit_intercept=True,\n",
      "          intercept_scaling=1, max_iter=100, multi_class='ovr', n_jobs=1,\n",
      "          penalty='l2', random_state=None, solver='sag', tol=0.0001,\n",
      "          verbose=0, warm_start=False),\n",
      "          n_jobs=1)\n",
      "TfidfVectorizer(analyzer='word', binary=False, decode_error='strict',\n",
      "        dtype=<class 'numpy.int64'>, encoding='utf-8', input='content',\n",
      "        lowercase=True, max_df=1.0, max_features=30000, min_df=5,\n",
      "        ngram_range=(1, 1), norm='l2', preprocessor=None, smooth_idf=True,\n",
      "        stop_words='english', strip_accents='unicode', sublinear_tf=False,\n",
      "        token_pattern='\\\\w{1,}', tokenizer=None, use_idf=True,\n",
      "        vocabulary=None)\n"
     ]
    }
   ],
   "source": [
    "print(grid3.best_estimator_.named_steps['onevsrestclassifier'])\n",
    "print(grid3.best_estimator_.named_steps['tfidfvectorizer'])"
   ]
  },
  {
   "cell_type": "code",
   "execution_count": 30,
   "metadata": {},
   "outputs": [
    {
     "data": {
      "text/plain": [
       "{'onevsrestclassifier__estimator__solver': 'liblinear',\n",
       " 'tfidfvectorizer__max_features': 30000}"
      ]
     },
     "execution_count": 30,
     "metadata": {},
     "output_type": "execute_result"
    }
   ],
   "source": [
    "grid3.best_params_"
   ]
  },
  {
   "cell_type": "code",
   "execution_count": 93,
   "metadata": {},
   "outputs": [
    {
     "data": {
      "text/plain": [
       "0.97780868401704601"
      ]
     },
     "execution_count": 93,
     "metadata": {},
     "output_type": "execute_result"
    }
   ],
   "source": [
    "grid3.best_score_"
   ]
  },
  {
   "cell_type": "code",
   "execution_count": 94,
   "metadata": {},
   "outputs": [],
   "source": [
    "predicted_y_test = grid3.predict(X_test)"
   ]
  },
  {
   "cell_type": "markdown",
   "metadata": {},
   "source": [
    "We see that our recall is the lowest with severely toxic, threats, and identity_ hate comments. Perhaps if we had a higher number of comments in those categories, our classifier would do better"
   ]
  },
  {
   "cell_type": "code",
   "execution_count": 95,
   "metadata": {
    "scrolled": false
   },
   "outputs": [
    {
     "name": "stdout",
     "output_type": "stream",
     "text": [
      "Toxic Confusion Matrixs: \n",
      "[[28766   161]\n",
      " [ 1235  1753]]\n",
      "\n",
      "Severe Toxic: \n",
      "[[31558    54]\n",
      " [  234    69]]\n",
      "\n",
      "Obscene: \n",
      "[[30210    81]\n",
      " [  598  1026]]\n",
      "\n",
      "Threat: \n",
      "[[31815    10]\n",
      " [   76    14]]\n",
      "\n",
      "Insult: \n",
      "[[30234   178]\n",
      " [  756   747]]\n",
      "\n",
      "Identity Hate: \n",
      "[[31617    21]\n",
      " [  233    44]]\n",
      "\n",
      "Toxic Classification report: \n",
      "             precision    recall  f1-score   support\n",
      "\n",
      "          0       0.96      0.99      0.98     28927\n",
      "          1       0.92      0.59      0.72      2988\n",
      "\n",
      "avg / total       0.95      0.96      0.95     31915\n",
      "\n",
      "\n",
      "Severe Toxic: \n",
      "             precision    recall  f1-score   support\n",
      "\n",
      "          0       0.99      1.00      1.00     31612\n",
      "          1       0.56      0.23      0.32       303\n",
      "\n",
      "avg / total       0.99      0.99      0.99     31915\n",
      "\n",
      "\n",
      "Obscene: \n",
      "             precision    recall  f1-score   support\n",
      "\n",
      "          0       0.98      1.00      0.99     30291\n",
      "          1       0.93      0.63      0.75      1624\n",
      "\n",
      "avg / total       0.98      0.98      0.98     31915\n",
      "\n",
      "\n",
      "Threat: \n",
      "             precision    recall  f1-score   support\n",
      "\n",
      "          0       1.00      1.00      1.00     31825\n",
      "          1       0.58      0.16      0.25        90\n",
      "\n",
      "avg / total       1.00      1.00      1.00     31915\n",
      "\n",
      "\n",
      "Insult: \n",
      "             precision    recall  f1-score   support\n",
      "\n",
      "          0       0.98      0.99      0.98     30412\n",
      "          1       0.81      0.50      0.62      1503\n",
      "\n",
      "avg / total       0.97      0.97      0.97     31915\n",
      "\n",
      "\n",
      "Identity Hate: \n",
      "             precision    recall  f1-score   support\n",
      "\n",
      "          0       0.99      1.00      1.00     31638\n",
      "          1       0.68      0.16      0.26       277\n",
      "\n",
      "avg / total       0.99      0.99      0.99     31915\n",
      "\n"
     ]
    }
   ],
   "source": [
    "print(\"Toxic Confusion Matrixs: \\n{}\".format(confusion_matrix(y_test['toxic'], predicted_y_test[:,0])))\n",
    "print(\"\\nSevere Toxic: \\n{}\".format(confusion_matrix(y_test['severe_toxic'], predicted_y_test[:,1])))\n",
    "print(\"\\nObscene: \\n{}\".format(confusion_matrix(y_test['obscene'], predicted_y_test[:,2])))\n",
    "print(\"\\nThreat: \\n{}\".format(confusion_matrix(y_test['threat'], predicted_y_test[:,3])))\n",
    "print(\"\\nInsult: \\n{}\".format(confusion_matrix(y_test['insult'], predicted_y_test[:,4])))\n",
    "print(\"\\nIdentity Hate: \\n{}\".format(confusion_matrix(y_test['identity_hate'], predicted_y_test[:,5])))\n",
    "\n",
    "print(\"\\nToxic Classification report: \\n{}\".format(classification_report(y_test['toxic'], predicted_y_test[:,0])))\n",
    "print(\"\\nSevere Toxic: \\n{}\".format(classification_report(y_test['severe_toxic'], predicted_y_test[:,1])))\n",
    "print(\"\\nObscene: \\n{}\".format(classification_report(y_test['obscene'], predicted_y_test[:,2])))\n",
    "print(\"\\nThreat: \\n{}\".format(classification_report(y_test['threat'], predicted_y_test[:,3])))\n",
    "print(\"\\nInsult: \\n{}\".format(classification_report(y_test['insult'], predicted_y_test[:,4])))\n",
    "print(\"\\nIdentity Hate: \\n{}\".format(classification_report(y_test['identity_hate'], predicted_y_test[:,5])))\n"
   ]
  },
  {
   "cell_type": "code",
   "execution_count": 124,
   "metadata": {
    "scrolled": true
   },
   "outputs": [
    {
     "data": {
      "text/plain": [
       "{'mean_fit_time': array([  8.40249578,   8.01375437,   8.33897034,   8.10679102,\n",
       "          9.80410147,  10.00636466,   9.92909122,   9.80422719,\n",
       "         11.0750436 ,  10.04977846,  11.55342611,  10.08792408,\n",
       "         10.6949563 ,  11.09865808,  11.41617401,  11.01502768]),\n",
       " 'mean_score_time': array([ 2.67717989,  2.62900162,  2.59790405,  2.60134244,  2.49365664,\n",
       "         2.61186258,  2.60682289,  2.46855855,  2.64361191,  2.51320124,\n",
       "         2.59548648,  2.54294022,  2.53543282,  2.54371381,  2.52660926,\n",
       "         2.60151498]),\n",
       " 'mean_test_score': array([ 0.95367707,  0.9585006 ,  0.95351752,  0.95841196,  0.9638843 ,\n",
       "         0.964355  ,  0.96379073,  0.96434873,  0.97722424,  0.97012168,\n",
       "         0.97723477,  0.97003841,  0.97724129,  0.97013592,  0.97725323,\n",
       "         0.97005052]),\n",
       " 'mean_train_score': array([ 0.96068262,  0.96573279,  0.96088471,  0.96597082,  0.97005141,\n",
       "         0.97080715,  0.9702204 ,  0.97100054,  0.99023249,  0.97851958,\n",
       "         0.99056954,  0.97868238,  0.99022976,  0.97851996,  0.99056712,\n",
       "         0.97868205]),\n",
       " 'param_onevsrestclassifier__estimator__C': masked_array(data = [0.01 0.01 0.01 0.01 0.01 0.01 0.01 0.01 1 1 1 1 1 1 1 1],\n",
       "              mask = [False False False False False False False False False False False False\n",
       "  False False False False],\n",
       "        fill_value = ?),\n",
       " 'param_onevsrestclassifier__estimator__solver': masked_array(data = ['liblinear' 'liblinear' 'liblinear' 'liblinear' 'sag' 'sag' 'sag' 'sag'\n",
       "  'liblinear' 'liblinear' 'liblinear' 'liblinear' 'sag' 'sag' 'sag' 'sag'],\n",
       "              mask = [False False False False False False False False False False False False\n",
       "  False False False False],\n",
       "        fill_value = ?),\n",
       " 'param_tfidfvectorizer__max_features': masked_array(data = [20000 20000 30000 30000 20000 20000 30000 30000 20000 20000 30000 30000\n",
       "  20000 20000 30000 30000],\n",
       "              mask = [False False False False False False False False False False False False\n",
       "  False False False False],\n",
       "        fill_value = ?),\n",
       " 'param_tfidfvectorizer__norm': masked_array(data = ['l2' 'l1' 'l2' 'l1' 'l2' 'l1' 'l2' 'l1' 'l2' 'l1' 'l2' 'l1' 'l2' 'l1' 'l2'\n",
       "  'l1'],\n",
       "              mask = [False False False False False False False False False False False False\n",
       "  False False False False],\n",
       "        fill_value = ?),\n",
       " 'params': ({'onevsrestclassifier__estimator__C': 0.01,\n",
       "   'onevsrestclassifier__estimator__solver': 'liblinear',\n",
       "   'tfidfvectorizer__max_features': 20000,\n",
       "   'tfidfvectorizer__norm': 'l2'},\n",
       "  {'onevsrestclassifier__estimator__C': 0.01,\n",
       "   'onevsrestclassifier__estimator__solver': 'liblinear',\n",
       "   'tfidfvectorizer__max_features': 20000,\n",
       "   'tfidfvectorizer__norm': 'l1'},\n",
       "  {'onevsrestclassifier__estimator__C': 0.01,\n",
       "   'onevsrestclassifier__estimator__solver': 'liblinear',\n",
       "   'tfidfvectorizer__max_features': 30000,\n",
       "   'tfidfvectorizer__norm': 'l2'},\n",
       "  {'onevsrestclassifier__estimator__C': 0.01,\n",
       "   'onevsrestclassifier__estimator__solver': 'liblinear',\n",
       "   'tfidfvectorizer__max_features': 30000,\n",
       "   'tfidfvectorizer__norm': 'l1'},\n",
       "  {'onevsrestclassifier__estimator__C': 0.01,\n",
       "   'onevsrestclassifier__estimator__solver': 'sag',\n",
       "   'tfidfvectorizer__max_features': 20000,\n",
       "   'tfidfvectorizer__norm': 'l2'},\n",
       "  {'onevsrestclassifier__estimator__C': 0.01,\n",
       "   'onevsrestclassifier__estimator__solver': 'sag',\n",
       "   'tfidfvectorizer__max_features': 20000,\n",
       "   'tfidfvectorizer__norm': 'l1'},\n",
       "  {'onevsrestclassifier__estimator__C': 0.01,\n",
       "   'onevsrestclassifier__estimator__solver': 'sag',\n",
       "   'tfidfvectorizer__max_features': 30000,\n",
       "   'tfidfvectorizer__norm': 'l2'},\n",
       "  {'onevsrestclassifier__estimator__C': 0.01,\n",
       "   'onevsrestclassifier__estimator__solver': 'sag',\n",
       "   'tfidfvectorizer__max_features': 30000,\n",
       "   'tfidfvectorizer__norm': 'l1'},\n",
       "  {'onevsrestclassifier__estimator__C': 1,\n",
       "   'onevsrestclassifier__estimator__solver': 'liblinear',\n",
       "   'tfidfvectorizer__max_features': 20000,\n",
       "   'tfidfvectorizer__norm': 'l2'},\n",
       "  {'onevsrestclassifier__estimator__C': 1,\n",
       "   'onevsrestclassifier__estimator__solver': 'liblinear',\n",
       "   'tfidfvectorizer__max_features': 20000,\n",
       "   'tfidfvectorizer__norm': 'l1'},\n",
       "  {'onevsrestclassifier__estimator__C': 1,\n",
       "   'onevsrestclassifier__estimator__solver': 'liblinear',\n",
       "   'tfidfvectorizer__max_features': 30000,\n",
       "   'tfidfvectorizer__norm': 'l2'},\n",
       "  {'onevsrestclassifier__estimator__C': 1,\n",
       "   'onevsrestclassifier__estimator__solver': 'liblinear',\n",
       "   'tfidfvectorizer__max_features': 30000,\n",
       "   'tfidfvectorizer__norm': 'l1'},\n",
       "  {'onevsrestclassifier__estimator__C': 1,\n",
       "   'onevsrestclassifier__estimator__solver': 'sag',\n",
       "   'tfidfvectorizer__max_features': 20000,\n",
       "   'tfidfvectorizer__norm': 'l2'},\n",
       "  {'onevsrestclassifier__estimator__C': 1,\n",
       "   'onevsrestclassifier__estimator__solver': 'sag',\n",
       "   'tfidfvectorizer__max_features': 20000,\n",
       "   'tfidfvectorizer__norm': 'l1'},\n",
       "  {'onevsrestclassifier__estimator__C': 1,\n",
       "   'onevsrestclassifier__estimator__solver': 'sag',\n",
       "   'tfidfvectorizer__max_features': 30000,\n",
       "   'tfidfvectorizer__norm': 'l2'},\n",
       "  {'onevsrestclassifier__estimator__C': 1,\n",
       "   'onevsrestclassifier__estimator__solver': 'sag',\n",
       "   'tfidfvectorizer__max_features': 30000,\n",
       "   'tfidfvectorizer__norm': 'l1'}),\n",
       " 'rank_test_score': array([15, 13, 16, 14, 11,  9, 12, 10,  4,  6,  3,  8,  2,  5,  1,  7]),\n",
       " 'split0_test_score': array([ 0.95427832,  0.95884137,  0.95405514,  0.95866409,  0.96350388,\n",
       "         0.96278414,  0.96335637,  0.96277761,  0.97643155,  0.96845515,\n",
       "         0.97636126,  0.96834001,  0.97637806,  0.96845037,  0.97631179,\n",
       "         0.96833962]),\n",
       " 'split0_train_score': array([ 0.9605987 ,  0.96563045,  0.96085817,  0.96594495,  0.97017228,\n",
       "         0.97081673,  0.97035449,  0.97098656,  0.99009075,  0.97840589,\n",
       "         0.99043936,  0.97859313,  0.99009072,  0.97840337,  0.99043948,\n",
       "         0.97858743]),\n",
       " 'split1_test_score': array([ 0.9558416 ,  0.96151884,  0.95568014,  0.96134117,  0.96522027,\n",
       "         0.96613426,  0.96513963,  0.96606842,  0.97822137,  0.97163893,\n",
       "         0.97822241,  0.97152527,  0.97826703,  0.97165291,  0.97827237,\n",
       "         0.97153981]),\n",
       " 'split1_train_score': array([ 0.96004358,  0.96509046,  0.96022585,  0.96532334,  0.96959999,\n",
       "         0.97070238,  0.96977032,  0.97091967,  0.99024003,  0.97864039,\n",
       "         0.99060877,  0.97883413,  0.99023593,  0.97864113,  0.99060595,\n",
       "         0.97883874]),\n",
       " 'split2_test_score': array([ 0.95091128,  0.9551416 ,  0.95081728,  0.95523064,  0.96292875,\n",
       "         0.96414659,  0.9628762 ,  0.96420014,  0.97701978,  0.97027096,\n",
       "         0.97712063,  0.97024995,  0.97707879,  0.97030448,  0.97717554,\n",
       "         0.97027214]),\n",
       " 'split2_train_score': array([ 0.96140558,  0.96647747,  0.96157011,  0.96664416,  0.97038198,\n",
       "         0.97090233,  0.97053639,  0.9710954 ,  0.99036668,  0.97851246,\n",
       "         0.99066049,  0.9786199 ,  0.99036263,  0.97851537,  0.99065592,\n",
       "         0.97861998]),\n",
       " 'std_fit_time': array([ 0.30468727,  0.07564312,  0.21190335,  0.06967939,  0.08073776,\n",
       "         0.29723425,  0.29859609,  0.31528912,  0.18054922,  0.28065614,\n",
       "         0.14779944,  0.14006322,  0.26026159,  0.1133489 ,  0.32749889,\n",
       "         0.05465891]),\n",
       " 'std_score_time': array([ 0.03974188,  0.11041155,  0.02481187,  0.07206974,  0.02908222,\n",
       "         0.09340452,  0.07551414,  0.00879251,  0.15450946,  0.05753226,\n",
       "         0.05112664,  0.05418233,  0.0965957 ,  0.01820352,  0.05199912,\n",
       "         0.0178056 ]),\n",
       " 'std_test_score': array([ 0.0020572 ,  0.00261463,  0.00202133,  0.00250097,  0.00097341,\n",
       "         0.0013756 ,  0.00097375,  0.00134757,  0.00074486,  0.00130405,\n",
       "         0.00076409,  0.00130895,  0.00077968,  0.00131285,  0.00080229,\n",
       "         0.00131584]),\n",
       " 'std_train_score': array([  5.59194228e-04,   5.70849922e-04,   5.49112081e-04,\n",
       "          5.39533781e-04,   3.30488718e-04,   8.19129611e-05,\n",
       "          3.26803255e-04,   7.24179933e-05,   1.12774432e-04,\n",
       "          9.58631341e-05,   9.44416822e-05,   1.07853067e-04,\n",
       "          1.11092697e-04,   9.71200555e-05,   9.25289290e-05,\n",
       "          1.11589572e-04])}"
      ]
     },
     "execution_count": 124,
     "metadata": {},
     "output_type": "execute_result"
    }
   ],
   "source": [
    "grid3.cv_results_"
   ]
  },
  {
   "cell_type": "code",
   "execution_count": 96,
   "metadata": {},
   "outputs": [
    {
     "name": "stdout",
     "output_type": "stream",
     "text": [
      "Features with lowest tfidf:\n",
      "['overstating' 'tusc' 'leona' 'ashish' 'tvs' 'divorcing' 'chandler' 'spoon'\n",
      " 'ashoka' 'ashraf' 'chandigarh' 'sporadically' 'jurors' 'queues' 'diwan'\n",
      " 'grabs' 'sportsman' 'oppressing' 'warms' 'aslo']\n",
      "Features with highest tfidf: \n",
      "['russian' 'source' 'yes' 's' 'paranoia' 'called' 'template' 'natural'\n",
      " 'fish' 'soon' 'understand' 'fine' 'canon' 'nazi' 'inserted' 'solved'\n",
      " 'information' 'career' 'filter' 'pwned']\n"
     ]
    }
   ],
   "source": [
    "vectorizer = grid3.best_estimator_.named_steps[\"tfidfvectorizer\"]\n",
    "# transform the training dataset:\n",
    "X_test_set = vectorizer.transform(X_test)\n",
    "\n",
    "\n",
    "# find maximum value for each of the features over dataset:\n",
    "max_value = X_test_set.max(axis=0).toarray().ravel()\n",
    "sorted_by_tfidf = max_value.argsort()\n",
    "\n",
    "# get feature names\n",
    "feature_names = np.array(vectorizer.get_feature_names())\n",
    "\n",
    "print(\"Features with lowest tfidf:\\n{}\".format(\n",
    "      feature_names[sorted_by_tfidf[:20]]))\n",
    "\n",
    "print(\"Features with highest tfidf: \\n{}\".format(\n",
    "      feature_names[sorted_by_tfidf[-20:]]))"
   ]
  },
  {
   "cell_type": "code",
   "execution_count": 97,
   "metadata": {},
   "outputs": [
    {
     "name": "stdout",
     "output_type": "stream",
     "text": [
      "Features with lowest idf:\n",
      "['s' 't' 'article' 'page' 'talk' 'wikipedia' 'just' 'like' 'don' 'think'\n",
      " 'know' 'm' 'edit' 'people' 'time' 'did' 'thanks' 'articles' 'make' 'use'\n",
      " 'good' 'does' 've' 'want' 'way' 'need' 'thank' 'information' 'editing'\n",
      " 'user' 'say' 'new' 'really' 'pages' 'sources' 'help' 'edits' 'look'\n",
      " 'section' 'add' 'source' 'wp' 'used' 'right' 'work' 'point' 'discussion'\n",
      " 'read' 'll' 'deleted' 'fact' 'utc' 'going' 'blocked' 'stop' 'said' 'd'\n",
      " 'added' 'sure' 'removed' 'link' 'let' 'better' 'doesn' 'reason' 'feel'\n",
      " 'list' 'place' 'actually' 'note' 'content' 'case' 'using' 'history' 'hi'\n",
      " 'believe' 'deletion' 'editors' 'free' '2' 'comment' 'things' 'person'\n",
      " 'question' 'personal' 'thing' '1' 'didn' 'ask' 'comments' 'vandalism'\n",
      " 'best' 'remove' 'hope' 'wrong' 'problem' 'little' 'trying' 'change' 'wiki']\n"
     ]
    }
   ],
   "source": [
    "sorted_by_idf = np.argsort(vectorizer.idf_)\n",
    "print(\"Features with lowest idf:\\n{}\".format(\n",
    "       feature_names[sorted_by_idf[:100]]))"
   ]
  },
  {
   "cell_type": "markdown",
   "metadata": {},
   "source": [
    "Toxic"
   ]
  },
  {
   "cell_type": "code",
   "execution_count": 98,
   "metadata": {},
   "outputs": [
    {
     "name": "stdout",
     "output_type": "stream",
     "text": [
      "Index(['toxic', 'severe_toxic', 'obscene', 'threat', 'insult',\n",
      "       'identity_hate'],\n",
      "      dtype='object')\n",
      "\n",
      "-Columns are ordered as above, which is why coef_[0] refers to toxic and coef_[5] refers to identity hate.\n",
      "-The blue bars refer to the label (toxic here) and the red refer to Not toxic\n"
     ]
    },
    {
     "data": {
      "image/png": "[encoded data removed]",
      "text/plain": [
       "<matplotlib.figure.Figure at 0x22255736cc0>"
      ]
     },
     "metadata": {},
     "output_type": "display_data"
    }
   ],
   "source": [
    "print(y_train.columns)\n",
    "print(\"\\n-Columns are ordered as above, which is why coef_[0] refers to toxic and coef_[5] refers to identity hate.\")\n",
    "print(\"-The blue bars refer to the label (toxic here) and the red refer to Not toxic\")\n",
    "mglearn.tools.visualize_coefficients(\n",
    "    grid3.best_estimator_.named_steps[\"onevsrestclassifier\"].coef_[0],\n",
    "    feature_names, n_top_features=40)"
   ]
  },
  {
   "cell_type": "markdown",
   "metadata": {},
   "source": [
    "Severe toxic"
   ]
  },
  {
   "cell_type": "code",
   "execution_count": 99,
   "metadata": {},
   "outputs": [
    {
     "data": {
      "image/png": "[encoded data removed]",
      "text/plain": [
       "<matplotlib.figure.Figure at 0x22226c8d828>"
      ]
     },
     "metadata": {},
     "output_type": "display_data"
    }
   ],
   "source": [
    "mglearn.tools.visualize_coefficients(\n",
    "    grid3.best_estimator_.named_steps[\"onevsrestclassifier\"].coef_[1],\n",
    "    feature_names, n_top_features=40)"
   ]
  },
  {
   "cell_type": "markdown",
   "metadata": {},
   "source": [
    "Identity Hate"
   ]
  },
  {
   "cell_type": "code",
   "execution_count": 192,
   "metadata": {},
   "outputs": [
    {
     "data": {
      "image/png": "[encoded data removed]",
      "text/plain": [
       "<matplotlib.figure.Figure at 0x2da10610ac8>"
      ]
     },
     "metadata": {},
     "output_type": "display_data"
    }
   ],
   "source": [
    "mglearn.tools.visualize_coefficients(\n",
    "    grid3.best_estimator_.named_steps[\"onevsrestclassifier\"].coef_[5],\n",
    "    feature_names, n_top_features=40)"
   ]
  },
  {
   "cell_type": "markdown",
   "metadata": {},
   "source": [
    "# Submission"
   ]
  },
  {
   "cell_type": "code",
   "execution_count": 107,
   "metadata": {},
   "outputs": [],
   "source": [
    "holdout_comments = holdout['comment_text']\n",
    "# holdoutComments are automatically transformed throguh the grid3 pipeline before prodicting probabilities\n",
    "twod = grid3.predict_proba(holdout_comments)"
   ]
  },
  {
   "cell_type": "code",
   "execution_count": 106,
   "metadata": {
    "scrolled": true
   },
   "outputs": [],
   "source": [
    "holdout_predictions = {}\n",
    "holdout_predictions = {'id': holdout['id']}  \n",
    "\n",
    "holdout_predictions['toxic']=twod[:,0]\n",
    "holdout_predictions['severe_toxic']=twod[:,1]\n",
    "holdout_predictions['obscene']=twod[:,2]\n",
    "holdout_predictions['threat']=twod[:,3]\n",
    "holdout_predictions['insult']=twod[:,4]\n",
    "holdout_predictions['identity_hate']=twod[:,5]\n",
    "    \n",
    "submission = pd.DataFrame.from_dict(holdout_predictions)\n",
    "submission = submission[['id','toxic','severe_toxic','obscene','threat','insult','identity_hate']] #rearrange columns\n",
    "submission.to_csv('submission.csv', index=False)"
   ]
  },
  {
   "cell_type": "markdown",
   "metadata": {},
   "source": [
    "# Bonus: Adding features"
   ]
  },
  {
   "cell_type": "code",
   "execution_count": 23,
   "metadata": {},
   "outputs": [],
   "source": [
    "train['len_character'] = train['comment_text'].apply(lambda x: len(re.findall(r\"[\\w]\", str(x))))"
   ]
  },
  {
   "cell_type": "code",
   "execution_count": 25,
   "metadata": {},
   "outputs": [],
   "source": [
    "from sklearn.preprocessing import FunctionTransformer\n",
    "from sklearn.pipeline import FeatureUnion #unites all arrays into one array\n",
    "from sklearn.pipeline import Pipeline"
   ]
  },
  {
   "cell_type": "code",
   "execution_count": 26,
   "metadata": {},
   "outputs": [],
   "source": [
    "x = train[['comment_text','len_character']]\n",
    "y = train.iloc[:, 2:8]  \n",
    "X_train, X_test, y_train, y_test = train_test_split(x, y, test_size= 0.2, random_state=13)"
   ]
  },
  {
   "cell_type": "code",
   "execution_count": 27,
   "metadata": {
    "scrolled": true
   },
   "outputs": [
    {
     "name": "stdout",
     "output_type": "stream",
     "text": [
      "(127656,)\n",
      "(127656, 1)\n"
     ]
    }
   ],
   "source": [
    "# Preprocess the numeric data: get_numeric_data\n",
    "get_numeric_data = FunctionTransformer(lambda a: a[['len_character']], validate=False)\n",
    "get_text_data = FunctionTransformer(lambda a: a['comment_text'], validate=False)\n",
    "\n",
    "print(get_text_data.fit_transform(X_train).shape)\n",
    "print(get_numeric_data.fit_transform(X_train).shape)"
   ]
  },
  {
   "cell_type": "code",
   "execution_count": 58,
   "metadata": {},
   "outputs": [],
   "source": [
    "pl = Pipeline([\n",
    "        ('union', FeatureUnion(                      #unites both text and numeric arrays into one array\n",
    "            transformer_list = [\n",
    "                ('numeric_features', Pipeline([\n",
    "                    ('selector', get_numeric_data)\n",
    "                ])),\n",
    "                ('text_features', Pipeline([\n",
    "                    ('selector', get_text_data), #creates a single list of string per row\n",
    "                    ('vectorizer', TfidfVectorizer(\n",
    "                                                    stop_words='english',\n",
    "                                                    strip_accents='unicode',\n",
    "                                                    token_pattern=r'\\w{2,}',\n",
    "                                                    analyzer='word',\n",
    "                                                    ngram_range=(1, 1),\n",
    "                                                    min_df=5))\n",
    "                ]))\n",
    "             ]\n",
    "        )), #(right here is where I would put interaction terms preprocessing such as PolynomialFeatures)\n",
    "            #(right here is where I would put a scaler if I needed one)\n",
    "        ('clf', OneVsRestClassifier(LogisticRegression())) #compares each label column separately to the features \n",
    "    ])"
   ]
  },
  {
   "cell_type": "code",
   "execution_count": 60,
   "metadata": {},
   "outputs": [],
   "source": [
    "param_grid = {'union__text_features__vectorizer__max_features': [30000,40000],\n",
    "              'clf__estimator__C': [1]\n",
    "             } \n",
    "grid = GridSearchCV(pl, param_grid, cv=3, scoring='roc_auc')\n",
    "\n",
    "grid4 = grid.fit(X_train, y_train)"
   ]
  },
  {
   "cell_type": "code",
   "execution_count": 32,
   "metadata": {},
   "outputs": [],
   "source": [
    "# # Pickle\n",
    "import dill as pickled #dill this is necessary in order for pickle to save grid4 which has a lambda function in it.\n",
    "\n",
    "# save_grid4 = open(\"Tfidf_LogR_4.pickle\", 'wb') #wb= write in bytes. 'Tfidf_LogR.pickle' is the name of the file saved\n",
    "# pickled.dump(grid4, save_grid4) #use pickle to dump the grid1 we trained as 'Tfidf_LogR.pickle' in wb format\n",
    "# save_grid4.close() "
   ]
  },
  {
   "cell_type": "code",
   "execution_count": 34,
   "metadata": {},
   "outputs": [],
   "source": [
    " import dill as pickled\n",
    "# Retrieve the saved file and uplaod it to an object\n",
    "vec4 = open(\"Tfidf_LogR_4.pickle\", 'rb') # rb= read in bytes\n",
    "grid4 = pickled.load(vec4)\n",
    "vec4.close()"
   ]
  },
  {
   "cell_type": "code",
   "execution_count": 35,
   "metadata": {},
   "outputs": [
    {
     "name": "stdout",
     "output_type": "stream",
     "text": [
      "0.977055758053\n",
      "{'clf__estimator__C': 1, 'union__text_features__vectorizer__max_features': 30000}\n",
      "Pipeline(steps=[('union', FeatureUnion(n_jobs=1,\n",
      "       transformer_list=[('numeric_features', Pipeline(steps=[('selector', FunctionTransformer(accept_sparse=False,\n",
      "          func=<function <lambda> at 0x00000241D8C28E18>, inv_kw_args=None,\n",
      "          inverse_func=None, kw_args=None, pass_y=False, validate=Fa...=None, solver='liblinear', tol=0.0001,\n",
      "          verbose=0, warm_start=False),\n",
      "          n_jobs=1))])\n"
     ]
    }
   ],
   "source": [
    "print(grid4.best_score_)\n",
    "print(grid4.best_params_)\n",
    "print(grid4.estimator)"
   ]
  },
  {
   "cell_type": "code",
   "execution_count": null,
   "metadata": {},
   "outputs": [],
   "source": [
    "pred_y_test = grid4.predict(X_test)\n",
    "\n",
    "print(\"Toxic Confusion Matrixs: \\n{}\".format(confusion_matrix(y_test['toxic'], pred_y_test[:,0])))\n",
    "print(\"\\nSevere Toxic: \\n{}\".format(confusion_matrix(y_test['severe_toxic'], pred_y_test[:,1])))\n",
    "print(\"\\nObscene: \\n{}\".format(confusion_matrix(y_test['obscene'], pred_y_test[:,2])))\n",
    "print(\"\\nThreat: \\n{}\".format(confusion_matrix(y_test['threat'], pred_y_test[:,3])))\n",
    "print(\"\\nInsult: \\n{}\".format(confusion_matrix(y_test['insult'], pred_y_test[:,4])))\n",
    "print(\"\\nIdentity Hate: \\n{}\".format(confusion_matrix(y_test['identity_hate'], pred_y_test[:,5])))\n",
    "\n",
    "print(\"\\nToxic Classification report: \\n{}\".format(classification_report(y_test['toxic'], pred_y_test[:,0])))\n",
    "print(\"\\nSevere Toxic: \\n{}\".format(classification_report(y_test['severe_toxic'], pred_y_test[:,1])))\n",
    "print(\"\\nObscene: \\n{}\".format(classification_report(y_test['obscene'], pred_y_test[:,2])))\n",
    "print(\"\\nThreat: \\n{}\".format(classification_report(y_test['threat'], pred_y_test[:,3])))\n",
    "print(\"\\nInsult: \\n{}\".format(classification_report(y_test['insult'], pred_y_test[:,4])))\n",
    "print(\"\\nIdentity Hate: \\n{}\".format(classification_report(y_test['identity_hate'], pred_y_test[:,5])))\n"
   ]
  }
 ],
 "metadata": {
  "hide_code_all_hidden": true,
  "kernelspec": {
   "display_name": "Python 3",
   "language": "python",
   "name": "python3"
  },
  "language_info": {
   "codemirror_mode": {
    "name": "ipython",
    "version": 3
   },
   "file_extension": ".py",
   "mimetype": "text/x-python",
   "name": "python",
   "nbconvert_exporter": "python",
   "pygments_lexer": "ipython3",
   "version": "3.6.0"
  }
 },
 "nbformat": 4,
 "nbformat_minor": 2
}
